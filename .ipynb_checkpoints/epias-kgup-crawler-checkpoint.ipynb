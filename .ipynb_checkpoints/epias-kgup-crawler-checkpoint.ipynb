{
 "cells": [
  {
   "cell_type": "code",
   "execution_count": 1,
   "metadata": {},
   "outputs": [],
   "source": [
    "import pandas as pd\n",
    "from datetime import datetime, timedelta\n",
    "from dateutil.relativedelta import relativedelta\n",
    "import os\n",
    "import requests\n",
    "import json\n",
    "import numpy as np"
   ]
  },
  {
   "cell_type": "code",
   "execution_count": 2,
   "metadata": {},
   "outputs": [],
   "source": [
    "master_start_dt = datetime(2015,1,1)\n",
    "x=datetime(2021,2,3)\n",
    "today = datetime.today()\n",
    "save_path = r\"C:\\Users\\mehmetg\\jupyter\\EPIAS_KGUP-Rolling_Source-Based\""
   ]
  },
  {
   "cell_type": "code",
   "execution_count": 3,
   "metadata": {},
   "outputs": [],
   "source": [
    "api_service_url = \"https://seffaflik.epias.com.tr/transparency/service/production/dpp\"\n",
    "production_columns_map = {\n",
    "    \"fueloil\": \"FuelOil\",\n",
    "    \"fuelOil\": \"FuelOil\",\n",
    "    \"gasOil\": \"GasOil\",\n",
    "    \"blackCoal\": \"BlackCoal\",\n",
    "    \"tasKomur\": \"BlackCoal\",\n",
    "    \"lignite\": \"Lignite\",\n",
    "    \"geothermal\": \"Geothermal\",\n",
    "    \"jeotermal\": \"Geothermal\",\n",
    "    \"naturalGas\": \"NaturalGas\",\n",
    "    \"dogalgaz\": \"NaturalGas\",\n",
    "    \"river\": \"Run-of-River\",\n",
    "    \"akarsu\": \"Run-of-River\",\n",
    "    \"ruzgar\": \"Wind\",\n",
    "    \"linyit\": \"Lignite\",\n",
    "    \"dammedHydro\": \"Dam\",\n",
    "    \"barajli\": \"Dam\",\n",
    "    \"lng\": \"LNG\",\n",
    "    \"biomass\": \"Biomass\",\n",
    "    \"biokutle\": \"Biomass\",\n",
    "    \"naphta\": \"Naphta\",\n",
    "    \"nafta\": \"Naphta\",\n",
    "    \"importCoal\": \"HardCoal\",\n",
    "    \"ithalKomur\": \"HardCoal\",\n",
    "    \"asphaltiteCoal\": \"Asphaltite\",\n",
    "    \"wind\": \"Wind\",\n",
    "    \"nucklear\": \"Nuclear\",\n",
    "    \"sun\": \"Solar\",\n",
    "    \"importExport\": \"ImportExport\",\n",
    "    \"total\": \"Total\",\n",
    "    \"diger\": \"Other\",\n",
    "    \"toplam\": \"Total\"\n",
    "}\n",
    "\n",
    "def get_planned_production(start_date, end_date):\n",
    "    start_date_str = start_date.strftime(\"%Y-%m-%d\")\n",
    "    end_date_str = end_date.strftime(\"%Y-%m-%d\")\n",
    "    \n",
    "    payload = {\n",
    "        \"startDate\": start_date_str,\n",
    "        \"endDate\": end_date_str\n",
    "    }\n",
    "    r = requests.get(api_service_url, params=payload)\n",
    "    r = json.loads(r.text)['body']['dppList']\n",
    "    df = pd.DataFrame(r)\n",
    "    if \"saat\" in df.columns:\n",
    "        df = df.drop(\"saat\", axis=1)\n",
    "        \n",
    "    df = df.set_index(\"tarih\")\n",
    "    df.index =  pd.to_datetime(df.index.map(lambda dt: str(dt)[:19]))\n",
    "    df.columns = [production_columns_map[col] for col in df.columns]\n",
    "    df.index.name = \"DateTime\"\n",
    "    return df"
   ]
  },
  {
   "cell_type": "code",
   "execution_count": 4,
   "metadata": {},
   "outputs": [],
   "source": [
    "year_dts = []\n",
    "year_dts.append(master_start_dt)\n",
    "while year_dts[-1] < today:\n",
    "    year_dts.append(year_dts[-1] + relativedelta(years=1))\n",
    "    \n",
    "existing = os.listdir(save_path)\n",
    "existing = [f for f in existing if '.csv' in f]\n",
    "if len(existing) > 0:\n",
    "    existing.sort()\n",
    "    latest = int(existing[-1].split(\".\")[0])\n",
    "    year_dts = [dt for dt in year_dts if dt.year >= latest]"
   ]
  },
  {
   "cell_type": "code",
   "execution_count": 5,
   "metadata": {
    "scrolled": false
   },
   "outputs": [
    {
     "name": "stdout",
     "output_type": "stream",
     "text": [
      "Processing 2021\n",
      "Appending to 2021.csv\n"
     ]
    }
   ],
   "source": [
    "for y in range(len(year_dts)-1):\n",
    "    dt_start = year_dts[y]\n",
    "    dt_end = year_dts[y+1] - timedelta(hours=1)\n",
    "    print(\"Processing\", dt_start.year)\n",
    "    filename = \"{}.csv\".format(dt_start.year)\n",
    "    file_save_path = os.path.join(save_path, filename)\n",
    "    if os.path.exists(file_save_path):\n",
    "        dummy = pd.read_csv(file_save_path, index_col=0, parse_dates=True)\n",
    "        last_idx = dummy.index[-1]\n",
    "        if last_idx != dt_end:\n",
    "            print(\"Appending to\", filename)\n",
    "            new_dt_start = last_idx - timedelta(days=7) # start from last 7 days\n",
    "            df = get_planned_production(new_dt_start, dt_end)\n",
    "            df = pd.concat([dummy, df])\n",
    "            df = df.groupby(df.index).last()\n",
    "            df.to_csv(file_save_path)\n",
    "    else:\n",
    "        df = get_planned_production(dt_start, dt_end)\n",
    "        df.to_csv(file_save_path)"
   ]
  },
  {
   "cell_type": "code",
   "execution_count": null,
   "metadata": {},
   "outputs": [],
   "source": []
  }
 ],
 "metadata": {
  "kernelspec": {
   "display_name": "Python 3",
   "language": "python",
   "name": "python3"
  },
  "language_info": {
   "codemirror_mode": {
    "name": "ipython",
    "version": 3
   },
   "file_extension": ".py",
   "mimetype": "text/x-python",
   "name": "python",
   "nbconvert_exporter": "python",
   "pygments_lexer": "ipython3",
   "version": "3.8.5"
  }
 },
 "nbformat": 4,
 "nbformat_minor": 5
}
